{
  "nbformat": 4,
  "nbformat_minor": 0,
  "metadata": {
    "colab": {
      "provenance": [],
      "toc_visible": true,
      "authorship_tag": "ABX9TyO97KQnx05EihztbTEN2zRI",
      "include_colab_link": true
    },
    "kernelspec": {
      "name": "python3",
      "display_name": "Python 3"
    },
    "language_info": {
      "name": "python"
    }
  },
  "cells": [
    {
      "cell_type": "markdown",
      "metadata": {
        "id": "view-in-github",
        "colab_type": "text"
      },
      "source": [
        "<a href=\"https://colab.research.google.com/github/lava-chen/ML_study/blob/main/%E6%9C%BA%E5%99%A8%E5%AD%A6%E4%B9%A0%E7%AC%94%E8%AE%B0.ipynb\" target=\"_parent\"><img src=\"https://colab.research.google.com/assets/colab-badge.svg\" alt=\"Open In Colab\"/></a>"
      ]
    },
    {
      "cell_type": "markdown",
      "source": [
        "# 1 线性回归\n",
        ">学习目标：\n",
        ">1. 解释损失函数及其工作原理。\n",
        ">2. 定义并描述梯度下降如何找到最佳模型参数。\n",
        ">3. 描述如何调整超参数以有效训练线性模型。\n",
        "## 1.1 Linear Regression\n",
        "$$y = wx + b$$\n",
        "\n"
      ],
      "metadata": {
        "id": "vFpmr-8It5V9"
      }
    }
  ]
}