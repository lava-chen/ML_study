{
  "nbformat": 4,
  "nbformat_minor": 0,
  "metadata": {
    "colab": {
      "provenance": [],
      "collapsed_sections": [
        "8upcnJ0hj3A_"
      ],
      "toc_visible": true,
      "mount_file_id": "1ag56lKQW16gGludX_73M6PvDb69TjaQN",
      "authorship_tag": "ABX9TyNBdWp37KBAj6PQOMEIe6WE",
      "include_colab_link": true
    },
    "kernelspec": {
      "name": "python3",
      "display_name": "Python 3"
    },
    "language_info": {
      "name": "python"
    }
  },
  "cells": [
    {
      "cell_type": "markdown",
      "metadata": {
        "id": "view-in-github",
        "colab_type": "text"
      },
      "source": [
        "<a href=\"https://colab.research.google.com/github/lava-chen/ML_study/blob/main/%E7%94%A824%E4%B8%AA%E6%B5%8B%E8%AF%95%E5%87%BD%E6%95%B0%E6%B5%8B%E8%AF%95PSO%E7%AE%97%E6%B3%95%E6%80%A7%E8%83%BD.ipynb\" target=\"_parent\"><img src=\"https://colab.research.google.com/assets/colab-badge.svg\" alt=\"Open In Colab\"/></a>"
      ]
    },
    {
      "cell_type": "markdown",
      "source": [
        "# **用24个测试函数测试PSO算法性能**\n",
        "> P:Particle S:swarm O:optimization"
      ],
      "metadata": {
        "id": "1xjsLSQyjl1W"
      }
    },
    {
      "cell_type": "code",
      "source": [
        "# @title 1.加载依赖项代码\n",
        "import os\n",
        "import numpy as np"
      ],
      "metadata": {
        "cellView": "form",
        "id": "YNxpEH8ojv1f"
      },
      "execution_count": 19,
      "outputs": []
    },
    {
      "cell_type": "markdown",
      "source": [
        "## 2.定义24个测试函数"
      ],
      "metadata": {
        "id": "8upcnJ0hj3A_"
      }
    },
    {
      "cell_type": "code",
      "source": [
        "# @title 2.1.Unimodal单峰函数\n",
        "\n",
        "def F1(x):\n",
        "    return np.sum(x**2)\n",
        "def F2(x):\n",
        "    return np.sum(np.abs(x)) + np.prod(np.abs(x))\n",
        "def F3(x):\n",
        "    return np.sum([np.sum(x[:i+1])**2 for i in range(len(x))])\n",
        "def F4(x):\n",
        "    return np.max(np.abs(x))\n",
        "def F5(x):\n",
        "    return np.sum(100 * (x[1:] - x[:-1]**2)**2 + (x[:-1] - 1)**2)\n",
        "def F6(x):\n",
        "    return np.sum(np.floor(x + 0.5)**2)\n",
        "def F7(x):\n",
        "    return np.sum([i * (xi**4) for i, xi in enumerate(x, 1)]) + np.random.uniform(0, 1)\n",
        "def F24(x):\n",
        "    return np.sum(np.abs(x) * (np.arange(len(x)) + 1))"
      ],
      "metadata": {
        "id": "SV_5oSzqkDVX"
      },
      "execution_count": 20,
      "outputs": []
    },
    {
      "cell_type": "code",
      "source": [
        "# @title 2.2.Multimodal多峰函数\n",
        "def F8(x):\n",
        "    return np.sum(-x * np.sin(np.sqrt(np.abs(x))))\n",
        "def F9(x):\n",
        "    return np.sum(x**2 - 10 * np.cos(2 * np.pi * x) + 10)\n",
        "def F10(x):\n",
        "    return -20 * np.exp(-0.2 * np.sqrt(np.mean(x**2))) - np.exp(np.mean(np.cos(2 * np.pi * x))) + 20 + np.e\n",
        "def F11(x):\n",
        "    return np.sum(x**2) / 4000 - np.prod(np.cos(x / np.sqrt(np.arange(1, len(x) + 1)))) + 1\n",
        "def F12(x):\n",
        "    y = 1 + (x + 1) / 4\n",
        "    return np.pi / len(x) * (10 * np.sin(np.pi * y[0])**2 + np.sum((y[:-1] - 1)**2 * (1 + 10 * np.sin(np.pi * y[1:])**2)) + (y[-1] - 1)**2) + np.sum([penalty(xi) for xi in x])\n",
        "def penalty(xi, a=10, k=100, m=4):\n",
        "    if xi > a:\n",
        "        return k * (xi - a)**m\n",
        "    elif xi < -a:\n",
        "        return k * (-xi - a)**m\n",
        "    return 0\n",
        "def F13(x):\n",
        "    return 0.1 * (np.sin(3 * np.pi * x[0])**2 + np.sum((x[:-1] - 1)**2 * (1 + np.sin(3 * np.pi * x[1:])**2)) + (x[-1] - 1)**2 * (1 + np.sin(2 * np.pi * x[-1])**2)) + np.sum([penalty(xi, 5, 100, 4) for xi in x])\n"
      ],
      "metadata": {
        "id": "gsEoeYYql9XH"
      },
      "execution_count": 21,
      "outputs": []
    },
    {
      "cell_type": "code",
      "source": [
        "# @title 2.3.Fixed固定维度的多峰函数\n",
        "def F14(x):\n",
        "    a = np.array([[3, 5, 2, 1, 7], [5, 2, 1, 4, 9]])\n",
        "    return 1 / (0.002 + np.sum(1 / (np.arange(1, len(x)+1) + np.sum((x - a[:, :len(x)])**6, axis=1))))\n",
        "def F15(x):\n",
        "    a = np.array([1.0, 1.5, 2.0])\n",
        "    return np.sum([(a[i] - (x[0]*(x[1]**2 + x[2])))**2 for i in range(len(a))])\n",
        "def F16(x):\n",
        "    return 4 * x[0]**2 - 2.1 * x[0]**4 + x[0]**6 / 3 + x[0] * x[1] + 4 * x[1]**2 * (-4 + 4 * x[1]**2)\n",
        "def F17(x):\n",
        "    return (x[1] - (5.1 / (4 * np.pi**2)) * x[0]**2 + 5 * x[0] / np.pi - 6)**2 + 10 * (1 - 1 / (8 * np.pi)) * np.cos(x[0]) + 10\n",
        "def F18(x):\n",
        "    return (1 + (x[0] + x[1] + 1)**2 * (19 - 14 * x[0] + 3 * x[0]**2 - 14 * x[1] + 6 * x[0] * x[1] + 3 * x[1]**2)) * (30 + (2 * x[0] - 3 * x[1])**2 * (18 - 32 * x[0] + 12 * x[0]**2 + 48 * x[1] - 36 * x[0] * x[1] + 27 * x[1]**2))\n",
        "def F19(x):\n",
        "    return -np.sum(np.array([1 / (x[0] - a)**2 + 1 / (x[1] - b)**2 for a, b in zip(np.random.rand(10), np.random.rand(10))]))\n",
        "def F20(x):\n",
        "    return -np.sum(np.array([1 / (x[0] - a)**2 + 1 / (x[1] - b)**2 for a, b in zip(np.random.rand(10), np.random.rand(10))]))\n",
        "\n",
        "def F21(x):\n",
        "    return -np.sum(np.array([1 / (x[0] - a)**2 + 1 / (x[1] - b)**2 for a, b in zip(np.random.rand(10), np.random.rand(10))]))\n",
        "\n",
        "def F22(x):\n",
        "    return -np.sum(np.array([1 / (x[0] - a)**2 + 1 / (x[1] - b)**2 for a, b in zip(np.random.rand(10), np.random.rand(10))]))\n",
        "\n",
        "def F23(x):\n",
        "    return -np.sum(np.array([1 / (x[0] - a)**2 + 1 / (x[1] - b)**2 for a, b in zip(np.random.rand(10), np.random.rand(10))]))"
      ],
      "metadata": {
        "id": "HfWGa6KWm1wk"
      },
      "execution_count": 22,
      "outputs": []
    },
    {
      "cell_type": "markdown",
      "source": [
        "## 3.PSO算法原理及代码实现部分\n",
        "### 3.1.简介\n",
        "- 粒子群优化算法(PSO)是一种**进化算法**(evolutionary computation)\n",
        "- 1995 年由Eberhart 博士和kennedy 博士提出，源于对鸟群捕食的行为研究 。\n",
        "\n",
        "### 3.2.原理的通俗理解\n",
        "*设想这样一个场景：一群鸟在随机搜索食物。在这个区域里只有一块食物。所有的鸟都不知道食物在那里。但是他们知道当前的位置离食物还有多远。那么找到食物的最优策略是什么呢。最简单有效的就是搜寻目前离食物最近的鸟的周围区域。*\n",
        "\n",
        "*鸟群在整个搜寻的过程中，通过相互传递各自的信息，让其他的鸟知道自己的位置，通过这样的协作，来判断自己找到的是不是最优解，同时也将最优解的信息传递给整个鸟群，最终，整个鸟群都能聚集在食物源周围，即找到了最优解。*\n",
        "\n",
        "### 3.3.PSO流程\n",
        "\n",
        "#### 3.3.1关于速度与位置\n",
        "将鸟简化成粒子，他的位置表示成$$X=(x_1,x_2,x_3,...,x_n)$$他的速度表示成$$V=(v_1,v_2,v_3,...,v_n)$$\n",
        "每一个粒子都知道:\n",
        "1. 目前为止**自己**发现的最好的位置**`pbest`**\n",
        "2. 目前为止**所有粒子**发现的最好位置**`gbest`**\n",
        "3. 现在的位置 $X_i$\n",
        "\n",
        "#### 3.3.2.速度和位置的更新\n",
        "1. 速度的更新\n",
        "  $$V_{i(t+1)}=wV_{i(t)}+c_1r(pbest_i-X_i)+c_2r(gbest_i-X_i)$$\n",
        "2. 位置的更新\n",
        "  $$X_{i(t+1)}=X_{i(t)}+V_{i(t+1)}$$\n",
        "\n",
        "|符号        ..|含义.           |\n",
        "|-----------|------------------|\n",
        "|$w$        |惯性权重           |\n",
        "|$r_1,r_2$  |介于(0,1)之间的随机数|\n",
        "|$c_1,c_2$  |学习因子,通常等于2  |\n",
        "\n",
        "#### 3.3.3.关于w\n",
        "值为非负，值越大，全局搜索能力越强，局部搜索能力弱，反之相反。\n"
      ],
      "metadata": {
        "id": "fH3iEQLTn7Yd"
      }
    },
    {
      "cell_type": "code",
      "source": [
        "# @title PSO参数\n",
        "w = 0.7  # 惯性权重\n",
        "c1 = 1.5  # 个体学习因子\n",
        "c2 = 1.5  # 群体学习因子\n",
        "num_particles = 50  # 粒子数量\n",
        "max_iter = 1000  # 最大迭代次数"
      ],
      "metadata": {
        "id": "zlWwJ_ie2c9A"
      },
      "execution_count": 23,
      "outputs": []
    },
    {
      "cell_type": "code",
      "source": [
        "# @title 初始化粒子群\n",
        "def init_PSO(dim, bounds):\n",
        "    # 随机初始化粒子的位置和速度\n",
        "    positions = np.random.uniform(bounds[0], bounds[1], (num_particles, dim))\n",
        "    velocities = np.random.uniform(-1, 1, (num_particles, dim))\n",
        "    return positions, velocities"
      ],
      "metadata": {
        "id": "orePpHrT1v1_"
      },
      "execution_count": 24,
      "outputs": []
    },
    {
      "cell_type": "code",
      "source": [
        "# @title PSO核心算法\n",
        "def PSO(func, dim, bounds):\n",
        "    '''dim:纬度;bounds:范围'''\n",
        "    positions, velocities = init_PSO(dim, bounds)\n",
        "    pbest_positions = np.copy(positions)\n",
        "    pbest_scores = np.array([func(p) for p in positions])\n",
        "    gbest_position = positions[np.argmin(pbest_scores)]\n",
        "    gbest_score = np.min(pbest_scores)\n",
        "\n",
        "    for t in range(max_iter):\n",
        "        for i in range(num_particles):\n",
        "            r1 = np.random.rand(dim)\n",
        "            r2 = np.random.rand(dim)\n",
        "            velocities[i] = (w * velocities[i] +\n",
        "                             c1 * r1 * (pbest_positions[i] - positions[i]) +\n",
        "                             c2 * r2 * (gbest_position - positions[i]))\n",
        "            positions[i] += velocities[i]\n",
        "            positions[i] = np.clip(positions[i], bounds[0], bounds[1])\n",
        "\n",
        "            score = func(positions[i])\n",
        "            if score < pbest_scores[i]:\n",
        "                pbest_scores[i] = score\n",
        "                pbest_positions[i] = positions[i]\n",
        "\n",
        "        # 更新全局最佳\n",
        "        if np.min(pbest_scores) < gbest_score:\n",
        "            gbest_score = np.min(pbest_scores)\n",
        "            gbest_position = pbest_positions[np.argmin(pbest_scores)]\n",
        "\n",
        "    return gbest_position, gbest_score\n"
      ],
      "metadata": {
        "id": "m2NX234W2jsN"
      },
      "execution_count": 25,
      "outputs": []
    },
    {
      "cell_type": "code",
      "source": [
        "# @title 测试函数的配置\n",
        "functions = [\n",
        "    (F1, 30, [-100, 100]),\n",
        "    (F2, 30, [-10, 10]),\n",
        "    (F3, 30, [-100, 100]),\n",
        "    (F4, 30, [-100, 100]),\n",
        "    (F5, 30, [-30, 30]),\n",
        "    (F6, 30, [-100, 100]),\n",
        "    (F7, 30, [-1.28, 1.28]),\n",
        "    (F8, 30, [-500, 500]),\n",
        "    (F9, 30, [-5.12, 5.12]),\n",
        "    (F10, 30, [-32, 32]),\n",
        "    (F11, 30, [-600, 600]),\n",
        "    (F12, 30, [-50, 50]),\n",
        "    (F13, 30, [-50, 50]),\n",
        "    (F14, 2, [-65.536, 65.536]),\n",
        "    (F15, 4, [-5, 5]),\n",
        "    (F16, 2, [-5, 5]),\n",
        "    (F17, 2, [-5, 10]),\n",
        "    (F18, 2, [-2, 2]),\n",
        "    (F19, 3, [0, 1]),\n",
        "    (F20, 6, [0, 1]),\n",
        "    (F21, 4, [0, 10]),\n",
        "    (F22, 4, [0, 10]),\n",
        "    (F23, 4, [0, 10]),\n",
        "    (F24, 30, [-100, 100])\n",
        "]"
      ],
      "metadata": {
        "id": "UhT2SL_Q43JQ"
      },
      "execution_count": 26,
      "outputs": []
    },
    {
      "cell_type": "markdown",
      "source": [
        "## 4.求解"
      ],
      "metadata": {
        "id": "wi3MXgCw4-q4"
      }
    },
    {
      "cell_type": "code",
      "source": [
        "for func, dim, bounds in functions:\n",
        "    best_position, best_score = PSO(func, dim, bounds)\n",
        "    print(str(func),f\"--最佳解: {best_score}\")"
      ],
      "metadata": {
        "colab": {
          "base_uri": "https://localhost:8080/"
        },
        "id": "vEPtFV-W5C7i",
        "outputId": "9deb8305-4956-4cd7-fe32-0479e0ef74e9"
      },
      "execution_count": 27,
      "outputs": [
        {
          "output_type": "stream",
          "name": "stdout",
          "text": [
            "<function F1 at 0x7e1ed6aa4310> --最佳解: 2.772765917292112e-21\n",
            "<function F2 at 0x7e1ed6aa4280> --最佳解: 10.000008095271244\n",
            "<function F3 at 0x7e1ed6aa4af0> --最佳解: 5001.695756553935\n",
            "<function F4 at 0x7e1ed6aa4670> --最佳解: 0.5017768637405013\n",
            "<function F5 at 0x7e1ed6aa4ca0> --最佳解: 26.49970777746277\n",
            "<function F6 at 0x7e1ed6aa4ee0> --最佳解: 4.0\n",
            "<function F7 at 0x7e1ed6aa5f30> --最佳解: 0.016597601099969408\n",
            "<function F8 at 0x7e1ed6aa44c0> --最佳解: -8077.472539735808\n",
            "<function F9 at 0x7e1ed6aa6560> --最佳解: 98.5715337302592\n",
            "<function F10 at 0x7e1ed6aa57e0> --最佳解: 2.95769950714303\n",
            "<function F11 at 0x7e1ed6aa5c60> --最佳解: 0.04658538693495773\n",
            "<function F12 at 0x7e1ed6aa5fc0> --最佳解: 2.8061600772161777\n",
            "<function F13 at 0x7e1ed6aa7490> --最佳解: 0.010987365835884694\n",
            "<function F14 at 0x7e1ed6aa5900> --最佳解: 0.9961489071397479\n",
            "<function F15 at 0x7e1ed6aa56c0> --最佳解: 0.5\n",
            "<function F16 at 0x7e1ed6aa79a0> --最佳解: -4.031442229302004\n",
            "<function F17 at 0x7e1ed6aa53f0> --最佳解: 0.39788735772973816\n",
            "<function F18 at 0x7e1ed6aa5bd0> --最佳解: 2.999999999999922\n",
            "<function F19 at 0x7e1ed6aa75b0> --最佳解: -27980136516646.062\n",
            "<function F20 at 0x7e1ed6aa69e0> --最佳解: -284061980774469.25\n",
            "<function F21 at 0x7e1ed6aa6950> --最佳解: -9.470724464742683e+16\n",
            "<function F22 at 0x7e1ed6aa7520> --最佳解: -603715209256.9072\n",
            "<function F23 at 0x7e1ed6aa5090> --最佳解: -2870793122635.497\n",
            "<function F24 at 0x7e1ed6aa6200> --最佳解: 100.00004185668786\n"
          ]
        }
      ]
    }
  ]
}